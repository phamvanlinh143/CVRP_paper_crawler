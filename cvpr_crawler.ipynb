{
 "cells": [
  {
   "cell_type": "code",
   "execution_count": null,
   "metadata": {},
   "outputs": [],
   "source": [
    "import json\n",
    "import requests\n",
    "import os\n",
    "from tqdm import tqdm\n",
    "import glob"
   ]
  },
  {
   "cell_type": "code",
   "execution_count": null,
   "metadata": {},
   "outputs": [],
   "source": [
    "root_path = 'data/'"
   ]
  },
  {
   "cell_type": "code",
   "execution_count": null,
   "metadata": {},
   "outputs": [],
   "source": [
    "def read_json_file(path):\n",
    "    with open(path, mode='r', encoding='utf-8') as f:\n",
    "        data = json.load(f)\n",
    "    return data"
   ]
  },
  {
   "cell_type": "code",
   "execution_count": null,
   "metadata": {},
   "outputs": [],
   "source": [
    "def write_pdf_file(content, path):\n",
    "    with open(path, mode='wb') as f:\n",
    "        try:\n",
    "            f.write(content)\n",
    "            f.close()\n",
    "        except:\n",
    "            print('Can not download this file!!!')"
   ]
  },
  {
   "cell_type": "code",
   "execution_count": null,
   "metadata": {},
   "outputs": [],
   "source": [
    "def download_file(list_adds, root_path):\n",
    "    if not os.path.exists(root_path):\n",
    "        os.makedirs(root_path, exist_ok=True)\n",
    "        \n",
    "    for paper_address in tqdm(list_adds):\n",
    "        _ , paper_name = os.path.split(paper_address)\n",
    "        save_path = os.path.join(root_path, paper_name)\n",
    "        r = requests.get(paper_address, allow_redirects=True)\n",
    "        write_pdf_file(r.content, save_path)"
   ]
  },
  {
   "cell_type": "code",
   "execution_count": null,
   "metadata": {},
   "outputs": [],
   "source": [
    "def main():\n",
    "    conf_paths = glob.glob('json_links/*.json')\n",
    "    for conf_path in conf_paths:\n",
    "        _, conf_name = os.path.split(conf_path)\n",
    "        conf_name = conf_name.split('.')[0]\n",
    "        parent_path = os.path.join(root_path, conf_name)\n",
    "        print(parent_path)\n",
    "        data = read_json_file(conf_path)\n",
    "        list_papers_add = data['links']\n",
    "        download_file(list_papers_add, parent_path)"
   ]
  },
  {
   "cell_type": "code",
   "execution_count": null,
   "metadata": {},
   "outputs": [],
   "source": [
    "main()"
   ]
  },
  {
   "cell_type": "code",
   "execution_count": null,
   "metadata": {},
   "outputs": [],
   "source": []
  }
 ],
 "metadata": {
  "kernelspec": {
   "display_name": "Python 3",
   "language": "python",
   "name": "python3"
  },
  "language_info": {
   "codemirror_mode": {
    "name": "ipython",
    "version": 3
   },
   "file_extension": ".py",
   "mimetype": "text/x-python",
   "name": "python",
   "nbconvert_exporter": "python",
   "pygments_lexer": "ipython3",
   "version": "3.6.8"
  }
 },
 "nbformat": 4,
 "nbformat_minor": 4
}
